{
  "nbformat": 4,
  "nbformat_minor": 0,
  "metadata": {
    "colab": {
      "provenance": [],
      "collapsed_sections": [],
      "authorship_tag": "ABX9TyOEqarilE1p985hfaoizGCX",
      "include_colab_link": true
    },
    "kernelspec": {
      "name": "python3",
      "display_name": "Python 3"
    },
    "language_info": {
      "name": "python"
    }
  },
  "cells": [
    {
      "cell_type": "markdown",
      "metadata": {
        "id": "view-in-github",
        "colab_type": "text"
      },
      "source": [
        "<a href=\"https://colab.research.google.com/github/pattuashoka/saranya/blob/main/Codekata.ipynb\" target=\"_parent\"><img src=\"https://colab.research.google.com/assets/colab-badge.svg\" alt=\"Open In Colab\"/></a>"
      ]
    },
    {
      "cell_type": "code",
      "execution_count": null,
      "metadata": {
        "colab": {
          "base_uri": "https://localhost:8080/"
        },
        "id": "_zJ9vgrDm3J7",
        "outputId": "8d8f0aac-9d29-485c-d138-d43bdc03560a"
      },
      "outputs": [
        {
          "output_type": "stream",
          "name": "stdout",
          "text": [
            "3\n",
            "9 18 27 "
          ]
        }
      ],
      "source": [
        "#### print the 9 th table\n",
        "#####Using the method of looping, write a program to print the table of 9 till N in the format as follows:\n",
        "#####(N is input by the user)  9 18 27...\n",
        "##### Print NULL if 0 is input\n",
        "\n",
        "\n",
        "\n",
        "n=int(input())\n",
        "i=1\n",
        "while i<=n:\n",
        "    a=i*9\n",
        "    print(a,end=\" \")\n",
        "    i=i+1\n",
        "if n==0:\n",
        "  print('NULL')\n",
        "      \n",
        "  \n"
      ]
    },
    {
      "cell_type": "code",
      "source": [
        "#### Print the First 3 multiples of the given number \"N\". (N is a positive integer)\n",
        "\n",
        "###### Note: print the characters with a single space between them.\n",
        "\n",
        "\n",
        "n=int(input())\n",
        "i=1\n",
        "while i<=3:\n",
        "  a=i*n\n",
        "  print(a,end=\" \")\n",
        "  i =i+1\n"
      ],
      "metadata": {
        "colab": {
          "base_uri": "https://localhost:8080/"
        },
        "id": "fwWqmsmLt1nK",
        "outputId": "f58f7e3d-ac6b-44b2-c7a5-7c1b627cf706"
      },
      "execution_count": null,
      "outputs": [
        {
          "output_type": "stream",
          "name": "stdout",
          "text": [
            "5\n",
            "5 10 15 "
          ]
        }
      ]
    },
    {
      "cell_type": "code",
      "source": [
        "#### You are given with a number A i.e. the temperature in Celcius. Write a program to convert this into Fahrenheit. \n",
        "\n",
        "#### Note: In case of decimal values, round-off to two decimal places.\n",
        "\n",
        "\n",
        "A =int(input())\n",
        "F = A*1.8+32\n",
        "print(\"%2f\"%F)\n",
        "\n",
        "print(round(F,2))\n"
      ],
      "metadata": {
        "colab": {
          "base_uri": "https://localhost:8080/"
        },
        "id": "F4B10s4DxA6m",
        "outputId": "69f14663-537f-446d-d94d-f98c07f40054"
      },
      "execution_count": null,
      "outputs": [
        {
          "output_type": "stream",
          "name": "stdout",
          "text": [
            "34\n",
            "93.200000\n",
            "93.2\n"
          ]
        }
      ]
    },
    {
      "cell_type": "code",
      "source": [
        "a = int(input())\n",
        "b = int(input())\n",
        "c = int(input())\n",
        "if a>b and a>c:\n",
        "  print(a)\n",
        "elif b>a and b>c:\n",
        "  print(b)\n",
        "elif c > a:\n",
        "  print(c)\n",
        "\n"
      ],
      "metadata": {
        "colab": {
          "base_uri": "https://localhost:8080/"
        },
        "id": "qXvvJAKg1DUN",
        "outputId": "2531f8aa-7cb6-40a6-806e-c11c54e1c677"
      },
      "execution_count": null,
      "outputs": [
        {
          "output_type": "stream",
          "name": "stdout",
          "text": [
            "27\n",
            "47\n",
            "12\n",
            "47\n"
          ]
        }
      ]
    },
    {
      "cell_type": "code",
      "source": [
        "#### You are given Two Numbers, A and B. If C = A + B. Find C.\n",
        "\n",
        "##### Note: Round off the output to a single decimal place.\n",
        "\n",
        "\n",
        "a=int(input())\n",
        "b = int(input())\n",
        "c = a+b\n",
        "print(round(c,1))"
      ],
      "metadata": {
        "id": "SKEVnw473hWF"
      },
      "execution_count": null,
      "outputs": []
    },
    {
      "cell_type": "code",
      "source": [],
      "metadata": {
        "id": "F-nZx7GfL32q"
      },
      "execution_count": null,
      "outputs": []
    },
    {
      "cell_type": "code",
      "source": [],
      "metadata": {
        "id": "NwDJ6s7XLT3A"
      },
      "execution_count": null,
      "outputs": []
    },
    {
      "cell_type": "code",
      "source": [],
      "metadata": {
        "id": "BUO2wYWY38R-"
      },
      "execution_count": null,
      "outputs": []
    },
    {
      "cell_type": "markdown",
      "source": [],
      "metadata": {
        "id": "mLQVmFFl1C-4"
      }
    },
    {
      "cell_type": "markdown",
      "source": [],
      "metadata": {
        "id": "Ht8A5rIx1Bhl"
      }
    },
    {
      "cell_type": "markdown",
      "source": [],
      "metadata": {
        "id": "yYm_RfFbxAGW"
      }
    },
    {
      "cell_type": "markdown",
      "source": [],
      "metadata": {
        "id": "iWcaZ-Y1t1CR"
      }
    }
  ]
}