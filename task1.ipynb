{
  "nbformat": 4,
  "nbformat_minor": 0,
  "metadata": {
    "colab": {
      "provenance": [],
      "authorship_tag": "ABX9TyOzaIiY464yeel7dbLoXaqS",
      "include_colab_link": true
    },
    "kernelspec": {
      "name": "python3",
      "display_name": "Python 3"
    },
    "language_info": {
      "name": "python"
    }
  },
  "cells": [
    {
      "cell_type": "markdown",
      "metadata": {
        "id": "view-in-github",
        "colab_type": "text"
      },
      "source": [
        "<a href=\"https://colab.research.google.com/github/pattuashoka/saranya/blob/main/task1.ipynb\" target=\"_parent\"><img src=\"https://colab.research.google.com/assets/colab-badge.svg\" alt=\"Open In Colab\"/></a>"
      ]
    },
    {
      "cell_type": "code",
      "execution_count": null,
      "metadata": {
        "id": "ZGXXTtRRt2ip"
      },
      "outputs": [],
      "source": [
        "\n",
        "\n",
        "def register():\n",
        "  f = open(\"registration.txt\",\"w\")\n",
        "  f.write(\"Enter user name\\n\")\n",
        "  f.write(\"Enter pass word\\n\")\n",
        "register()\n",
        "\n"
      ]
    },
    {
      "cell_type": "code",
      "source": [
        "def register():\n",
        "  f = open(\"registration.txt\",\"w\")\n",
        "  #f.write(\"Enter user name:\\n\")\n",
        "  #f.write(\"Enter pass word:\\n\")\n",
        "  name = input(enter email id)\n",
        "  pw = input(enter pass word)\n",
        "  for i in name:\n",
        "    if (i=='@'and i!='@''.' and i!='$_'):\n",
        "      if \n",
        "\n",
        "  "
      ],
      "metadata": {
        "id": "f8F77lUruAM_"
      },
      "execution_count": null,
      "outputs": []
    }
  ]
}